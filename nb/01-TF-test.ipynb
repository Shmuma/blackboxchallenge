{
 "cells": [
  {
   "cell_type": "code",
   "execution_count": 1,
   "metadata": {
    "collapsed": true
   },
   "outputs": [],
   "source": [
    "import tensorflow as tf\n",
    "import numpy as np"
   ]
  },
  {
   "cell_type": "markdown",
   "metadata": {},
   "source": [
    "# Q update\n",
    "I want to have old state and new state combined into the single tf graph.\n",
    "\n",
    "```\n",
    "Q = Net(state)\n",
    "Q_next = Net(next_state)\n",
    "\n",
    "q_ref = reward + lambda * max(Q_next)\n",
    "L = (Q[action] - q_ref)^2\n",
    "```"
   ]
  },
  {
   "cell_type": "code",
   "execution_count": 2,
   "metadata": {
    "collapsed": false
   },
   "outputs": [],
   "source": [
    "s = tf.InteractiveSession()"
   ]
  },
  {
   "cell_type": "code",
   "execution_count": 56,
   "metadata": {
    "collapsed": false
   },
   "outputs": [
    {
     "data": {
      "text/plain": [
       "array([[  0.,   1.,   2.,   3.],\n",
       "       [  4.,   5.,   6.,   7.],\n",
       "       [  8.,   9.,  10.,  11.],\n",
       "       [ 12.,  13.,  14.,  15.],\n",
       "       [ 16.,  17.,  18.,  19.],\n",
       "       [ 20.,  21.,  22.,  23.],\n",
       "       [ 24.,  25.,  26.,  27.],\n",
       "       [ 28.,  29.,  30.,  31.],\n",
       "       [ 32.,  33.,  34.,  35.],\n",
       "       [ 36.,  37.,  38.,  39.]], dtype=float32)"
      ]
     },
     "execution_count": 56,
     "metadata": {},
     "output_type": "execute_result"
    }
   ],
   "source": [
    "batch_size = 10\n",
    "actions_count = 4\n",
    "Q = tf.reshape(tf.range(batch_size*actions_count), (batch_size, actions_count))\n",
    "Q = tf.to_float(Q)\n",
    "Q.eval()"
   ]
  },
  {
   "cell_type": "code",
   "execution_count": 57,
   "metadata": {
    "collapsed": false
   },
   "outputs": [
    {
     "data": {
      "text/plain": [
       "array([1, 2, 1, 2, 1, 2, 1, 2, 1, 2], dtype=int32)"
      ]
     },
     "execution_count": 57,
     "metadata": {},
     "output_type": "execute_result"
    }
   ],
   "source": [
    "actions = tf.constant([1, 2] * (batch_size/2))\n",
    "actions.eval()"
   ]
  },
  {
   "cell_type": "code",
   "execution_count": 58,
   "metadata": {
    "collapsed": true
   },
   "outputs": [],
   "source": [
    "Q_flat = tf.reshape(Q, ((batch_size*actions_count,)))"
   ]
  },
  {
   "cell_type": "code",
   "execution_count": 59,
   "metadata": {
    "collapsed": true
   },
   "outputs": [],
   "source": [
    "flat_idx = tf.range(batch_size) * actions_count + actions"
   ]
  },
  {
   "cell_type": "code",
   "execution_count": 60,
   "metadata": {
    "collapsed": false
   },
   "outputs": [
    {
     "data": {
      "text/plain": [
       "array([  1.,   6.,   9.,  14.,  17.,  22.,  25.,  30.,  33.,  38.], dtype=float32)"
      ]
     },
     "execution_count": 60,
     "metadata": {},
     "output_type": "execute_result"
    }
   ],
   "source": [
    "q_acts = tf.gather(Q_flat, flat_idx)\n",
    "q_acts.eval()"
   ]
  },
  {
   "cell_type": "code",
   "execution_count": 13,
   "metadata": {
    "collapsed": true
   },
   "outputs": [],
   "source": [
    "rewards = tf.constant([0.1]*batch_size)"
   ]
  },
  {
   "cell_type": "code",
   "execution_count": 14,
   "metadata": {
    "collapsed": false
   },
   "outputs": [
    {
     "data": {
      "text/plain": [
       "[array([ 0.1,  0.1,  0.1,  0.1,  0.1,  0.1,  0.1,  0.1,  0.1,  0.1], dtype=float32)]"
      ]
     },
     "execution_count": 14,
     "metadata": {},
     "output_type": "execute_result"
    }
   ],
   "source": [
    "s.run([rewards])"
   ]
  },
  {
   "cell_type": "code",
   "execution_count": 44,
   "metadata": {
    "collapsed": false
   },
   "outputs": [
    {
     "data": {
      "text/plain": [
       "array([[ 0.37454012,  0.95071429,  0.73199391,  0.5986585 ],\n",
       "       [ 0.15601864,  0.15599452,  0.05808361,  0.86617613],\n",
       "       [ 0.60111499,  0.7080726 ,  0.02058449,  0.96990985],\n",
       "       [ 0.83244264,  0.21233912,  0.18182497,  0.18340451],\n",
       "       [ 0.30424225,  0.52475643,  0.43194503,  0.29122913],\n",
       "       [ 0.61185288,  0.13949387,  0.29214466,  0.36636186],\n",
       "       [ 0.45606998,  0.78517598,  0.19967379,  0.51423442],\n",
       "       [ 0.59241456,  0.04645041,  0.60754484,  0.17052412],\n",
       "       [ 0.06505159,  0.94888556,  0.96563202,  0.80839735],\n",
       "       [ 0.30461377,  0.09767211,  0.68423301,  0.4401525 ]], dtype=float32)"
      ]
     },
     "execution_count": 44,
     "metadata": {},
     "output_type": "execute_result"
    }
   ],
   "source": [
    "np.random.seed(42)\n",
    "vals = np.random.rand(batch_size, actions_count).astype(np.float32)\n",
    "Q_next = tf.constant(vals)\n",
    "Q_next.eval()"
   ]
  },
  {
   "cell_type": "code",
   "execution_count": 49,
   "metadata": {
    "collapsed": false
   },
   "outputs": [
    {
     "data": {
      "text/plain": [
       "array([ 1.04120719,  0.95751441,  1.0602107 ,  0.92411822,  0.61950892,\n",
       "        0.70573437,  0.87732422,  0.70146942,  1.05597568,  0.77739072], dtype=float32)"
      ]
     },
     "execution_count": 49,
     "metadata": {},
     "output_type": "execute_result"
    }
   ],
   "source": [
    "q_ref = rewards + 0.99 * tf.reduce_max(Q_next, 1)\n",
    "q_ref.eval()"
   ]
  },
  {
   "cell_type": "code",
   "execution_count": 64,
   "metadata": {
    "collapsed": false
   },
   "outputs": [],
   "source": [
    "error = tf.reduce_mean((q_acts - q_ref)**2)"
   ]
  },
  {
   "cell_type": "code",
   "execution_count": 65,
   "metadata": {
    "collapsed": false
   },
   "outputs": [
    {
     "data": {
      "text/plain": [
       "482.74643"
      ]
     },
     "execution_count": 65,
     "metadata": {},
     "output_type": "execute_result"
    }
   ],
   "source": [
    "error.eval()"
   ]
  },
  {
   "cell_type": "code",
   "execution_count": null,
   "metadata": {
    "collapsed": true
   },
   "outputs": [],
   "source": []
  }
 ],
 "metadata": {
  "kernelspec": {
   "display_name": "Python 2",
   "language": "python",
   "name": "python2"
  },
  "language_info": {
   "codemirror_mode": {
    "name": "ipython",
    "version": 2
   },
   "file_extension": ".py",
   "mimetype": "text/x-python",
   "name": "python",
   "nbconvert_exporter": "python",
   "pygments_lexer": "ipython2",
   "version": "2.7.11"
  }
 },
 "nbformat": 4,
 "nbformat_minor": 0
}
